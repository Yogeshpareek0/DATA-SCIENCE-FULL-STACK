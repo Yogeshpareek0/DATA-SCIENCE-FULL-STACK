{
 "cells": [
  {
   "cell_type": "code",
   "execution_count": 2,
   "id": "584e7780-186a-4845-bfb2-6b043ca41090",
   "metadata": {},
   "outputs": [
    {
     "name": "stdout",
     "output_type": "stream",
     "text": [
      "siya ram\n"
     ]
    }
   ],
   "source": [
    "name = \"siya ram\"\n",
    "print (name)"
   ]
  },
  {
   "cell_type": "code",
   "execution_count": 23,
   "id": "d288dba1-e458-485b-a339-9a64a43e2c18",
   "metadata": {},
   "outputs": [
    {
     "name": "stdout",
     "output_type": "stream",
     "text": [
      "the lengh of string stored in name variable\n",
      "8\n",
      "....................................................\n",
      "string iterate using loop\n",
      "s\n",
      "i\n",
      "y\n",
      "a\n",
      " \n",
      "r\n",
      "a\n",
      "m\n",
      ".....................................................\n",
      "we can print index no. of string (siya ram) using loop\n",
      "0\n",
      "1\n",
      "2\n",
      "3\n",
      "4\n",
      "5\n",
      "6\n",
      "7\n",
      "index no of string:- string siya ram (index no of s is 0 )(index no of i is 1) (index no of y is 2) (index no of a is 3 )(index no of space() is 4) etc.\n"
     ]
    }
   ],
   "source": [
    "#how to work string\n",
    "#string work on index\n",
    "print (\"the lengh of string stored in name variable\")\n",
    "len_name = len(name)\n",
    "print (len_name)\n",
    "# we can iterate string using loop\n",
    "print (\"....................................................\")\n",
    "print (\"string iterate using loop\")\n",
    "for i in name:\n",
    "    print (i);\n",
    "\n",
    "#we can print index no of string using loop\n",
    "print (\".....................................................\")\n",
    "print (\"we can print index no. of string (siya ram) using loop\")\n",
    "for i in range (len(name)):\n",
    "    print (i)\n",
    "\n",
    "print (\"index no of string:- string siya ram (index no of s is 0 )(index no of i is 1) (index no of y is 2) (index no of a is 3 )(index no of space(\" \") is 4) etc.\")\n",
    "\n",
    "\n",
    "\n",
    "\n",
    "\n"
   ]
  },
  {
   "cell_type": "code",
   "execution_count": 26,
   "id": "2e3d9794-7359-4d87-9051-5d69730c55f8",
   "metadata": {},
   "outputs": [
    {
     "name": "stdout",
     "output_type": "stream",
     "text": [
      "s\n",
      "i\n",
      "y\n",
      "a\n",
      " \n",
      "r\n",
      "a\n",
      "m\n"
     ]
    }
   ],
   "source": [
    "# we can print particular string character using index no.\n",
    "print (name[0])\n",
    "print (name[1])\n",
    "print (name[2])\n",
    "print (name[3])\n",
    "print (name[4])\n",
    "print (name[5])\n",
    "print (name[6])\n",
    "print (name[7])"
   ]
  },
  {
   "cell_type": "code",
   "execution_count": 40,
   "id": "2fef369c-cafd-4cee-9c70-6d37aaa779c5",
   "metadata": {},
   "outputs": [
    {
     "name": "stdin",
     "output_type": "stream",
     "text": [
      "ENTER PAN NUMBER AAAAA2222A\n"
     ]
    },
    {
     "name": "stdout",
     "output_type": "stream",
     "text": [
      "AAAAA2222A\n"
     ]
    }
   ],
   "source": [
    "panno = str(input(\"ENTER PAN NUMBER\"))\n",
    "pan = panno.upper()\n",
    "lengh_pan = len(pan)\n",
    "if lengh_pan == 10:\n",
    "    print (pan)\n",
    "else:\n",
    "    print (\"PLEASE CHECK THE PAN NUMBER\");\n",
    "\n",
    "\n",
    "    "
   ]
  },
  {
   "cell_type": "code",
   "execution_count": 41,
   "id": "8c452009-1a4d-49ca-94a8-80eb908e26eb",
   "metadata": {},
   "outputs": [
    {
     "name": "stdin",
     "output_type": "stream",
     "text": [
      "ENTER PAN NUMBER AAAAA2222AA\n"
     ]
    },
    {
     "name": "stdout",
     "output_type": "stream",
     "text": [
      "PLEASE CHECK THE PAN NUMBER\n"
     ]
    }
   ],
   "source": [
    "panno = str(input(\"ENTER PAN NUMBER\"))\n",
    "pan = panno.upper()\n",
    "lengh_pan = len(pan)\n",
    "if lengh_pan == 10:\n",
    "    print (pan)\n",
    "else:\n",
    "    print (\"PLEASE CHECK THE PAN NUMBER\");"
   ]
  },
  {
   "cell_type": "code",
   "execution_count": 43,
   "id": "c3b2831f-eaf3-4a6e-ba91-2b2bb09e9d6f",
   "metadata": {},
   "outputs": [
    {
     "name": "stdout",
     "output_type": "stream",
     "text": [
      "True\n"
     ]
    }
   ],
   "source": [
    "address = \"i am from rajasthan\"\n",
    "print (\"am\" in address) #it will give true bcz \"am\" is available in address variable"
   ]
  },
  {
   "cell_type": "code",
   "execution_count": 44,
   "id": "ff57fd03-d0f8-414f-bc55-7b274634eb67",
   "metadata": {},
   "outputs": [
    {
     "name": "stdout",
     "output_type": "stream",
     "text": [
      "True\n"
     ]
    }
   ],
   "source": [
    "print (\"from\" in address)  #it will give true bcz \"from\" is available in address variable"
   ]
  },
  {
   "cell_type": "code",
   "execution_count": 45,
   "id": "0bc5b764-2025-41e8-b6eb-ce7c089e279b",
   "metadata": {},
   "outputs": [
    {
     "name": "stdout",
     "output_type": "stream",
     "text": [
      "False\n"
     ]
    }
   ],
   "source": [
    "print (\"hello\" in address)  #it will give false bcz \"hello\" is not available in address variable"
   ]
  },
  {
   "cell_type": "code",
   "execution_count": 48,
   "id": "7b4f2d29-481d-48fd-885c-7a57e5a48159",
   "metadata": {},
   "outputs": [
    {
     "name": "stdout",
     "output_type": "stream",
     "text": [
      "i\n",
      " \n",
      "a\n",
      "m\n",
      " \n",
      "f\n",
      "r\n",
      "o\n",
      "m\n",
      " \n",
      "r\n",
      "a\n",
      "j\n",
      "a\n",
      "s\n",
      "t\n",
      "h\n",
      "a\n",
      "n\n"
     ]
    }
   ],
   "source": [
    "address = \"i am from rajasthan\"\n",
    "for i in address:\n",
    "    print (i)"
   ]
  },
  {
   "cell_type": "code",
   "execution_count": 55,
   "id": "dac6e1bf-fabd-479a-9ab8-b0f78269f2c3",
   "metadata": {},
   "outputs": [
    {
     "name": "stdout",
     "output_type": "stream",
     "text": [
      "yes (am) is available in address variable\n"
     ]
    }
   ],
   "source": [
    "address = \"i am from rajasthan\"\n",
    "if \"am\" in address:\n",
    "    print (\"yes (am) is available in address variable\")"
   ]
  },
  {
   "cell_type": "code",
   "execution_count": 56,
   "id": "67c6f99f-ed66-43e8-a7dd-655ce6a559d3",
   "metadata": {},
   "outputs": [
    {
     "name": "stdout",
     "output_type": "stream",
     "text": [
      "no , (amm) is not available in address variable\n"
     ]
    }
   ],
   "source": [
    "address = \"i am from rajasthan\"\n",
    "if \"amm\" in address:\n",
    "    print (\"yes (amm) is available in address variable\")\n",
    "else:\n",
    "    print (\"no , (amm) is not available in address variable\")"
   ]
  },
  {
   "cell_type": "code",
   "execution_count": 61,
   "id": "442c2aa2-237e-49b7-b4bc-4e084000d40c",
   "metadata": {},
   "outputs": [
    {
     "name": "stdout",
     "output_type": "stream",
     "text": [
      "no , (am) is available in address variable\n"
     ]
    }
   ],
   "source": [
    "address = \"i am from rajasthan\"\n",
    "if \"am\" not in address:\n",
    "    print (\"yes , (am) is not available in address variable\")\n",
    "else:\n",
    "    print (\"no , (am) is available in address variable\")"
   ]
  },
  {
   "cell_type": "code",
   "execution_count": 83,
   "id": "45df5133-8550-4e82-92e1-014a285338dc",
   "metadata": {},
   "outputs": [
    {
     "name": "stdout",
     "output_type": "stream",
     "text": [
      "y index no - 0\n",
      "o index no - 1\n",
      "g index no - 2\n",
      "e index no - 3\n",
      "s index no - 4\n",
      "h index no - 5\n",
      "  index no - 6\n",
      "p index no - 7\n",
      "a index no - 8\n",
      "r index no - 9\n",
      "e index no - 10\n",
      "e index no - 11\n",
      "k index no - 12\n",
      "...................................................\n",
      "yogesh\n",
      "yogesh pareek\n",
      "pareek\n",
      "yogesh if we keep start empty than it capture automatic index 0 and same will be happening in end part\n"
     ]
    }
   ],
   "source": [
    "#slicing (cut anything) function\n",
    "#string name (start index , end index)\n",
    "#start is include but end part is exclude\n",
    "name = \"yogesh pareek\"\n",
    "for i in range(len(name)):\n",
    "    print (name[i] , \"index no -\" , i)\n",
    "\n",
    "print (\"...................................................\")\n",
    "newname = name[0:6]\n",
    "print (newname)\n",
    "print (name)\n",
    "newname = name[7:13]\n",
    "print (newname)\n",
    "print (name[:6] , \"if we keep start wiht empty than it capture automatic index 0 and same will be happening in end part\")"
   ]
  },
  {
   "cell_type": "code",
   "execution_count": 85,
   "id": "fe22ec2d-4c3a-49dd-aaaa-04ff0ac51944",
   "metadata": {},
   "outputs": [
    {
     "data": {
      "text/plain": [
       "'C:\\\\Users\\\\acer'"
      ]
     },
     "execution_count": 85,
     "metadata": {},
     "output_type": "execute_result"
    }
   ],
   "source": [
    "pwd% #location of this file"
   ]
  },
  {
   "cell_type": "code",
   "execution_count": 96,
   "id": "8e49e81b-198c-4e01-a859-03a0b5eea7a0",
   "metadata": {},
   "outputs": [
    {
     "name": "stdout",
     "output_type": "stream",
     "text": [
      "yogesh\n"
     ]
    }
   ],
   "source": [
    "print (name[-13:-7])"
   ]
  },
  {
   "cell_type": "code",
   "execution_count": 97,
   "id": "73aa8c75-658d-4d09-a289-8c3cb7d21809",
   "metadata": {},
   "outputs": [
    {
     "name": "stdout",
     "output_type": "stream",
     "text": [
      "pareek\n"
     ]
    }
   ],
   "source": [
    "print (name[-6:]) "
   ]
  },
  {
   "cell_type": "code",
   "execution_count": 32,
   "id": "19e876d2-a099-4f33-9016-4a1d052bf8d7",
   "metadata": {},
   "outputs": [
    {
     "name": "stdout",
     "output_type": "stream",
     "text": [
      "upper case\n",
      "YOGESH PAREEK\n",
      "...................................................\n",
      "lower case\n",
      "yogesh pareek\n",
      "...................................................\n",
      "aogesh pareek\n",
      "...................................................\n",
      "['Yogesh', 'pareek']\n",
      "<class 'list'>\n",
      "...................................................\n",
      "yogesh pareek\n",
      "...................................................\n",
      "i am yogesh pareek ,my age is 26\n"
     ]
    }
   ],
   "source": [
    "#upper case\n",
    "print (\"upper case\")\n",
    "name = \"Yogesh pareek\"\n",
    "print (name.upper())\n",
    "print (\"...................................................\")\n",
    "print (\"lower case\")\n",
    "print (name.lower())\n",
    "print (\"...................................................\")\n",
    "name2 = name.replace(\"Y\",\"a\") #replace function do replace any character in string \n",
    "print (name2) #replace(what,by)\n",
    "print (\"...................................................\")\n",
    "print (name.split(\" \")) #split function make a list from string\n",
    "print (type(name.split(\" \")))\n",
    "print (\"...................................................\")\n",
    "#concatenate\n",
    "firstname = \"yogesh\"\n",
    "lastname = \"pareek\"\n",
    "fullname = firstname + \" \" + lastname\n",
    "print (fullname)\n",
    "print (\"...................................................\")\n",
    "name = \"yogesh pareek\"\n",
    "age = 26\n",
    "detailedname = \"i am {1} ,my age is {0}\" #format function in \n",
    "print (detailedname.format(age, name))\n"
   ]
  },
  {
   "cell_type": "code",
   "execution_count": 81,
   "id": "89e98462-1d3f-4c1f-8b2f-7469c3c6d179",
   "metadata": {},
   "outputs": [
    {
     "name": "stdout",
     "output_type": "stream",
     "text": [
      "True\n",
      "................\n",
      "yes , it is available in name variable\n",
      "................\n",
      "no , it is not availbale in this variable\n"
     ]
    }
   ],
   "source": [
    "name = \"yogesh pareek\"\n",
    "print (\"y\" in name)\n",
    "print (\"................\")\n",
    "if \"y\" in name:\n",
    "    print (\"yes , it is available in name variable\")\n",
    "    print (\"................\")\n",
    "if \"z\" in name:\n",
    "    print (\"yes , it is available in name variable\")\n",
    "else:\n",
    "    print (\"no , it is not availbale in this variable\")"
   ]
  },
  {
   "cell_type": "code",
   "execution_count": 42,
   "id": "c8180fb5-b90c-4ea9-a233-2dd7fd518124",
   "metadata": {},
   "outputs": [
    {
     "name": "stdout",
     "output_type": "stream",
     "text": [
      "['apple', 'banana', 'cherries']\n",
      "...................................................\n",
      "apple\n",
      "banana\n",
      "cherries\n",
      "...................................................\n",
      "3\n",
      "...................................................\n",
      "apple\n",
      "banana\n",
      "cherries\n"
     ]
    }
   ],
   "source": [
    "#list function\n",
    "list1 = [\"apple\", \"banana\" , \"cherries\"]\n",
    "print (list1)\n",
    "print (\"...................................................\")\n",
    "for i in list1:\n",
    "    print (i)\n",
    "print (\"...................................................\")\n",
    "listrange = len(list1)\n",
    "print (listrange)\n",
    "print (\"...................................................\")\n",
    "for i in range(listrange):\n",
    "    print (list1[i])"
   ]
  },
  {
   "cell_type": "code",
   "execution_count": 58,
   "id": "1c7b1620-0c9e-428f-aecb-54b3dd647417",
   "metadata": {},
   "outputs": [
    {
     "name": "stdout",
     "output_type": "stream",
     "text": [
      "['apple', 'mango', 'cherries']\n",
      "...................................................\n",
      "['apple', 'mango', 'banana']\n",
      "...................................................\n",
      "['apple', 'banana', 'cherries', 'grapes', 'almonds']\n",
      "['apple', 'mango', 'tomato', 'grapes', 'almonds']\n",
      "['apple', 'Strawberry', 'mango', 'tomato', 'grapes', 'almonds']\n"
     ]
    }
   ],
   "source": [
    "#list\n",
    "list1 = [\"apple\", \"banana\" , \"cherries\"]\n",
    "list1[1] = \"mango\"\n",
    "print (list1)\n",
    "print (\"...................................................\")\n",
    "list1[2] = \"banana\"\n",
    "print (list1)\n",
    "print (\"...................................................\")\n",
    "list1 = [\"apple\", \"banana\" , \"cherries\", \"grapes\", \"almonds\"]\n",
    "print (list1)\n",
    "list1[1:3] = \"mango\",\"tomato\"\n",
    "print (list1)\n",
    "list1.insert(1 , \"Strawberry\")\n",
    "print (list1)"
   ]
  },
  {
   "cell_type": "code",
   "execution_count": 71,
   "id": "3da2ee30-1151-495c-a44e-61757355629a",
   "metadata": {},
   "outputs": [
    {
     "name": "stdout",
     "output_type": "stream",
     "text": [
      "['Strawberry', 'grapes', 'almonds', 'orange']\n",
      "...................................................\n",
      "['Strawberry', 'mango', 'tomato', 'grapes', 'almonds']\n",
      "...................................................\n",
      "['Strawberry', 'tomato', 'grapes', 'almonds']\n",
      "...................................................\n",
      "['Strawberry', 'grapes', 'almonds']\n",
      "...................................................\n",
      "['grapes', 'almonds']\n"
     ]
    }
   ],
   "source": [
    "#list\n",
    "#list = ['Strawberry', 'mango', 'tomato', 'grapes', 'almonds']\n",
    "#print (list)\n",
    "list.append(\"orange\") #append take only one argument it not take index number\n",
    "print (list)\n",
    "print (\"...................................................\")\n",
    "list =  ['Strawberry', 'mango']\n",
    "list1 = ['tomato', 'grapes', 'almonds']\n",
    "list.extend(list1)\n",
    "print (list)\n",
    "print (\"...................................................\")\n",
    "list = ['Strawberry', 'mango', 'tomato', 'grapes', 'almonds']\n",
    "list.remove(\"mango\") #it take value for remove\n",
    "print (list)\n",
    "print (\"...................................................\")\n",
    "list.pop(1)\n",
    "print (list) #it take key for remove\n",
    "print (\"...................................................\")\n",
    "del list[0]\n",
    "print (list)"
   ]
  },
  {
   "cell_type": "code",
   "execution_count": 84,
   "id": "246f071d-2633-4d4d-9570-e640e8793082",
   "metadata": {},
   "outputs": [
    {
     "name": "stdout",
     "output_type": "stream",
     "text": [
      "[]\n",
      "['mango']\n",
      "['mango', 'tomato']\n",
      "['mango', 'tomato']\n",
      "['mango', 'tomato', 'almonds']\n"
     ]
    }
   ],
   "source": [
    "list = ['Strawberry', 'mango', 'tomato', 'grapes', 'almonds']\n",
    "newlist =  []\n",
    "for i in list:\n",
    "    if \"m\" in i:\n",
    "        newlist.append(i)\n",
    "    print(newlist)        "
   ]
  },
  {
   "cell_type": "code",
   "execution_count": 91,
   "id": "0f0d8d88-e891-4ef2-99b6-49e1c5c347f5",
   "metadata": {},
   "outputs": [
    {
     "name": "stdout",
     "output_type": "stream",
     "text": [
      "['almonds', 'grapes', 'mango', 'tomato']\n",
      ".....................\n",
      "['tomato', 'mango', 'grapes', 'almonds']\n",
      ".....................\n",
      "[1, 2, 15, 25, 3, 6, 100]\n",
      "[1, 2, 3, 6, 15, 25, 100]\n",
      "[100, 25, 15, 6, 3, 2, 1]\n",
      ".....................\n",
      "[1, 2, 15, 25, 3, 6, 100]\n"
     ]
    }
   ],
   "source": [
    "list = ['mango', 'tomato', 'grapes', 'almonds']\n",
    "list.sort()\n",
    "print (list)\n",
    "print (\".....................\")\n",
    "list.sort(reverse = True)\n",
    "print (list)\n",
    "print (\".....................\")\n",
    "list = [1 , 2 , 15 , 25 , 3 , 6 , 100]\n",
    "print (list)\n",
    "list.sort()\n",
    "print (list)\n",
    "list.sort(reverse = True)\n",
    "print (list)\n",
    "print (\".....................\")\n",
    "list = [1 , 2 , 15 , 25 , 3 , 6 , 100]\n",
    "list1 = list.copy()\n",
    "print (list1)\n"
   ]
  },
  {
   "cell_type": "code",
   "execution_count": 99,
   "id": "ebe6214a-95d7-4809-bf86-aa75017d31f4",
   "metadata": {},
   "outputs": [
    {
     "name": "stdout",
     "output_type": "stream",
     "text": [
      "('tomato', 'orange', 'banana') <class 'tuple'>\n",
      ".....................\n",
      "orange\n",
      ".....................\n",
      "tomato\n",
      "orange\n",
      "banana\n",
      ".....................\n",
      "(1, 2, 3, 4, 'yogesh', 'anil')\n",
      ".....................\n"
     ]
    }
   ],
   "source": [
    "#tuple\n",
    "#tuple is immutable it means we cannot changes in tuple (cannot add item,cannot remove item etc)\n",
    "tup = (\"tomato\", \"orange\" , \"banana\")\n",
    "print (tup , type(tup))\n",
    "print (\".....................\")\n",
    "print (tup[1])\n",
    "print (\".....................\")\n",
    "for i in tup:\n",
    "    print (i)\n",
    "print (\".....................\")\n",
    "tup1 = (1 ,2 , 3 ,4)\n",
    "tup2 = (\"yogesh\",\"anil\")\n",
    "tup3 = tup1 + tup2\n",
    "print (tup3)\n",
    "print (\".....................\")\n"
   ]
  }
 ],
 "metadata": {
  "kernelspec": {
   "display_name": "Python 3 (ipykernel)",
   "language": "python",
   "name": "python3"
  },
  "language_info": {
   "codemirror_mode": {
    "name": "ipython",
    "version": 3
   },
   "file_extension": ".py",
   "mimetype": "text/x-python",
   "name": "python",
   "nbconvert_exporter": "python",
   "pygments_lexer": "ipython3",
   "version": "3.10.8"
  }
 },
 "nbformat": 4,
 "nbformat_minor": 5
}
